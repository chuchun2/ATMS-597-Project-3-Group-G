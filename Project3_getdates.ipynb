{
  "nbformat": 4,
  "nbformat_minor": 0,
  "metadata": {
    "colab": {
      "name": "Copy of Project3_getdates.ipynb",
      "provenance": [],
      "collapsed_sections": [],
      "include_colab_link": true
    },
    "kernelspec": {
      "display_name": "Python 3.6",
      "language": "python",
      "name": "python36"
    }
  },
  "cells": [
    {
      "cell_type": "markdown",
      "metadata": {
        "id": "view-in-github",
        "colab_type": "text"
      },
      "source": [
        "<a href=\"https://colab.research.google.com/github/kevingray92/ATMS-597-Project-3-Group-G/blob/master/Project3_getdates.ipynb\" target=\"_parent\"><img src=\"https://colab.research.google.com/assets/colab-badge.svg\" alt=\"Open In Colab\"/></a>"
      ]
    },
    {
      "cell_type": "markdown",
      "metadata": {
        "id": "z3hprDvHs9jN",
        "colab_type": "text"
      },
      "source": [
        "# ATMS 597: Project 3"
      ]
    },
    {
      "cell_type": "code",
      "metadata": {
        "id": "VyrPkvAls9jQ",
        "colab_type": "code",
        "outputId": "59ec0bc7-de34-439e-d6cb-298a2e1b2b8a",
        "colab": {
          "base_uri": "https://localhost:8080/",
          "height": 35
        }
      },
      "source": [
        "%pylab inline\n",
        "import xarray as xr\n",
        "from datetime import datetime\n",
        "import numpy as np\n",
        "import pandas as pd\n",
        "from bs4 import BeautifulSoup\n",
        "import requests\n",
        "import matplotlib.pyplot as plt"
      ],
      "execution_count": 1,
      "outputs": [
        {
          "output_type": "stream",
          "text": [
            "Populating the interactive namespace from numpy and matplotlib\n"
          ],
          "name": "stdout"
        }
      ]
    },
    {
      "cell_type": "code",
      "metadata": {
        "id": "YyxciA7cs9jU",
        "colab_type": "code",
        "outputId": "a467fe74-4c03-4613-fcb0-fcfbb54485e2",
        "colab": {
          "base_uri": "https://localhost:8080/",
          "height": 436
        }
      },
      "source": [
        "!pip install netcdf4\n",
        "!pip install pydap"
      ],
      "execution_count": 2,
      "outputs": [
        {
          "output_type": "stream",
          "text": [
            "Collecting netcdf4\n",
            "\u001b[?25l  Downloading https://files.pythonhosted.org/packages/35/4f/d49fe0c65dea4d2ebfdc602d3e3d2a45a172255c151f4497c43f6d94a5f6/netCDF4-1.5.3-cp36-cp36m-manylinux1_x86_64.whl (4.1MB)\n",
            "\u001b[K     |████████████████████████████████| 4.1MB 2.8MB/s \n",
            "\u001b[?25hRequirement already satisfied: numpy>=1.7 in /usr/local/lib/python3.6/dist-packages (from netcdf4) (1.17.5)\n",
            "Collecting cftime\n",
            "\u001b[?25l  Downloading https://files.pythonhosted.org/packages/53/35/e2fc52247871c51590d6660e684fdc619a93a29f40e3b64894bd4f8c9041/cftime-1.1.0-cp36-cp36m-manylinux1_x86_64.whl (316kB)\n",
            "\u001b[K     |████████████████████████████████| 317kB 40.9MB/s \n",
            "\u001b[?25hInstalling collected packages: cftime, netcdf4\n",
            "Successfully installed cftime-1.1.0 netcdf4-1.5.3\n",
            "Collecting pydap\n",
            "\u001b[?25l  Downloading https://files.pythonhosted.org/packages/9e/ad/01367f79b24015e223dd7679e4c9b16a6792fe5a9772e45e5f81b2c4a021/Pydap-3.2.2-py3-none-any.whl (2.3MB)\n",
            "\u001b[K     |████████████████████████████████| 2.3MB 2.7MB/s \n",
            "\u001b[?25hRequirement already satisfied: numpy in /usr/local/lib/python3.6/dist-packages (from pydap) (1.17.5)\n",
            "Requirement already satisfied: six>=1.4.0 in /usr/local/lib/python3.6/dist-packages (from pydap) (1.12.0)\n",
            "Requirement already satisfied: Jinja2 in /usr/local/lib/python3.6/dist-packages (from pydap) (2.11.1)\n",
            "Collecting Webob\n",
            "\u001b[?25l  Downloading https://files.pythonhosted.org/packages/18/3c/de37900faff3c95c7d55dd557aa71bd77477950048983dcd4b53f96fde40/WebOb-1.8.6-py2.py3-none-any.whl (114kB)\n",
            "\u001b[K     |████████████████████████████████| 122kB 19.1MB/s \n",
            "\u001b[?25hRequirement already satisfied: docopt in /usr/local/lib/python3.6/dist-packages (from pydap) (0.6.2)\n",
            "Requirement already satisfied: beautifulsoup4 in /usr/local/lib/python3.6/dist-packages (from pydap) (4.6.3)\n",
            "Requirement already satisfied: MarkupSafe>=0.23 in /usr/local/lib/python3.6/dist-packages (from Jinja2->pydap) (1.1.1)\n",
            "Installing collected packages: Webob, pydap\n",
            "Successfully installed Webob-1.8.6 pydap-3.2.2\n"
          ],
          "name": "stdout"
        }
      ]
    },
    {
      "cell_type": "code",
      "metadata": {
        "id": "RI05Sj-tDwnz",
        "colab_type": "code",
        "colab": {}
      },
      "source": [
        "years = np.arange(1996,2020)\n",
        "#years = np.arange(1996,1998)\n",
        "#print(years)\n",
        "file_list = []\n",
        "associatedyearlist = []\n",
        "\n",
        "# Get the file names from the website by looping through each year\n",
        "for year in years:\n",
        "    page = requests.get('https://www.ncei.noaa.gov/data/global-precipitation-climatology-project-gpcp-daily/access/'+str(year)+'/')\n",
        "    soup = BeautifulSoup(page.text, 'html.parser')\n",
        "\n",
        "    file_name_list_items = soup.find_all('a')\n",
        "    file_name_list_items\n",
        "\n",
        "    i = 0\n",
        "    for file_name in file_name_list_items:\n",
        "        # Need an if statement to skip some header lines on each page\n",
        "        if i > 4:\n",
        "            names = file_name.contents[0]\n",
        "            #print(names)\n",
        "            file_list.append(names)\n",
        "            associatedyearlist.append(year)\n",
        "        i = i+1\n",
        "# We now have a list of file names and their associated years"
      ],
      "execution_count": 0,
      "outputs": []
    },
    {
      "cell_type": "code",
      "metadata": {
        "id": "DDVPRrbfGm24",
        "colab_type": "code",
        "outputId": "e7549a2b-0b76-4a6f-a1c3-7fd2f0bd784e",
        "colab": {
          "base_uri": "https://localhost:8080/",
          "height": 35
        }
      },
      "source": [
        "# Check the length of the lists to make sure we got all that we wanted\n",
        "len(file_list)\n",
        "#len(associatedyearlist)"
      ],
      "execution_count": 0,
      "outputs": [
        {
          "output_type": "execute_result",
          "data": {
            "text/plain": [
              "8495"
            ]
          },
          "metadata": {
            "tags": []
          },
          "execution_count": 5
        }
      ]
    },
    {
      "cell_type": "code",
      "metadata": {
        "id": "-3m61CyOfLVY",
        "colab_type": "code",
        "outputId": "a2b85be1-b5c6-42e7-8c98-2e2fdc200069",
        "colab": {
          "base_uri": "https://localhost:8080/",
          "height": 55
        }
      },
      "source": [
        "# Test just getting one file\n",
        "!wget -nv \"https://www.ncei.noaa.gov/data/global-precipitation-climatology-project-gpcp-daily/access/2018/gpcp_v01r03_daily_d20180101_c20180409.nc\"\n",
        "nc = xr.open_dataset('gpcp_v01r03_daily_d20180101_c20180409.nc')"
      ],
      "execution_count": 0,
      "outputs": [
        {
          "output_type": "stream",
          "text": [
            "2020-02-21 20:45:08 URL:https://www.ncei.noaa.gov/data/global-precipitation-climatology-project-gpcp-daily/access/2018/gpcp_v01r03_daily_d20180101_c20180409.nc [289938/289938] -> \"gpcp_v01r03_daily_d20180101_c20180409.nc.2\" [1]\n"
          ],
          "name": "stdout"
        }
      ]
    },
    {
      "cell_type": "code",
      "metadata": {
        "id": "rN3tK839f07_",
        "colab_type": "code",
        "outputId": "d25c6a66-55c7-4cd3-ecb4-88a53e55644b",
        "colab": {
          "base_uri": "https://localhost:8080/",
          "height": 295
        }
      },
      "source": [
        "# Check the file contents if you want\n",
        "nc['precip']"
      ],
      "execution_count": 0,
      "outputs": [
        {
          "output_type": "execute_result",
          "data": {
            "text/html": [
              "<pre>&lt;xarray.DataArray &#x27;precip&#x27; (time: 1, latitude: 180, longitude: 360)&gt;\n",
              "array([[[0., 0., ..., 0., 0.],\n",
              "        [0., 0., ..., 0., 0.],\n",
              "        ...,\n",
              "        [0., 0., ..., 0., 0.],\n",
              "        [0., 0., ..., 0., 0.]]], dtype=float32)\n",
              "Coordinates:\n",
              "  * latitude   (latitude) float32 -90.0 -89.0 -88.0 -87.0 ... 87.0 88.0 89.0\n",
              "  * longitude  (longitude) float32 0.0 1.0 2.0 3.0 ... 356.0 357.0 358.0 359.0\n",
              "  * time       (time) object 2018-01-01 00:00:00\n",
              "Attributes:\n",
              "    long_name:      NOAA Climate Data Record (CDR) of Daily GPCP Satellite-Ga...\n",
              "    standard_name:  lwe_precipitation_rate\n",
              "    units:          mm/day\n",
              "    valid_range:    [  0. 100.]\n",
              "    cell_methods:   area: mean time: mean</pre>"
            ],
            "text/plain": [
              "<xarray.DataArray 'precip' (time: 1, latitude: 180, longitude: 360)>\n",
              "array([[[0., 0., ..., 0., 0.],\n",
              "        [0., 0., ..., 0., 0.],\n",
              "        ...,\n",
              "        [0., 0., ..., 0., 0.],\n",
              "        [0., 0., ..., 0., 0.]]], dtype=float32)\n",
              "Coordinates:\n",
              "  * latitude   (latitude) float32 -90.0 -89.0 -88.0 -87.0 ... 87.0 88.0 89.0\n",
              "  * longitude  (longitude) float32 0.0 1.0 2.0 3.0 ... 356.0 357.0 358.0 359.0\n",
              "  * time       (time) object 2018-01-01 00:00:00\n",
              "Attributes:\n",
              "    long_name:      NOAA Climate Data Record (CDR) of Daily GPCP Satellite-Ga...\n",
              "    standard_name:  lwe_precipitation_rate\n",
              "    units:          mm/day\n",
              "    valid_range:    [  0. 100.]\n",
              "    cell_methods:   area: mean time: mean"
            ]
          },
          "metadata": {
            "tags": []
          },
          "execution_count": 14
        }
      ]
    },
    {
      "cell_type": "code",
      "metadata": {
        "id": "wLmgJueNIr00",
        "colab_type": "code",
        "colab": {}
      },
      "source": [
        "# This is the loop to get all the data.\n",
        "# Took roughly 7 hours to complete.\n",
        "site = 'https://www.ncei.noaa.gov/data/global-precipitation-climatology-project-gpcp-daily/access/'\n",
        "datasets = [] # an empty list that will hold all the precip data arrays\n",
        "for count in range(len(file_list)):\n",
        "    file_i, year_i = (file_list[count], associatedyearlist[count])\n",
        "    fileloc = (site+str(year_i)+'/'+file_i)\n",
        "    !wget -nv \"{fileloc}\" # Get the file\n",
        "    nc = xr.open_dataset(file_i) # read the file into nc\n",
        "    precip = xr.DataArray(nc['precip'],dims=['time','latitude','longitude']) # load the precip data into a data array \n",
        "    datasets.append(precip) #append the datasets list with the precip data array\n",
        "    !rm \"{file_i}\" # remove the downloaded file\n",
        "len(datasets)\n",
        "combined = xr.concat(datasets, dim='time') # Make one combined file with all the data arrays"
      ],
      "execution_count": 0,
      "outputs": []
    },
    {
      "cell_type": "code",
      "metadata": {
        "id": "g_qBOco-CaLR",
        "colab_type": "code",
        "outputId": "03e5cc13-1618-4e66-ec17-011839878eb5",
        "colab": {
          "base_uri": "https://localhost:8080/",
          "height": 35
        }
      },
      "source": [
        "# Check the length of datasets to make sure we got everything\n",
        "len(datasets)\n",
        "#combined = xr.concat(datasets, dim='time')\n",
        "#print(datasets[0])"
      ],
      "execution_count": 0,
      "outputs": [
        {
          "output_type": "execute_result",
          "data": {
            "text/plain": [
              "8495"
            ]
          },
          "metadata": {
            "tags": []
          },
          "execution_count": 7
        }
      ]
    },
    {
      "cell_type": "code",
      "metadata": {
        "id": "tckhtw-6i8_v",
        "colab_type": "code",
        "colab": {}
      },
      "source": [
        "# Save the combined file\n",
        "combined.to_netcdf('combined.nc')"
      ],
      "execution_count": 0,
      "outputs": []
    },
    {
      "cell_type": "code",
      "metadata": {
        "id": "hA8NnHpcNiK8",
        "colab_type": "code",
        "outputId": "4622a86b-0559-4956-b874-c5edf8d59ddf",
        "colab": {
          "base_uri": "https://localhost:8080/",
          "height": 124
        }
      },
      "source": [
        "# or mount Google Drive and then save it there\n",
        "from google.colab import drive\n",
        "drive.mount('/content/drive')"
      ],
      "execution_count": 3,
      "outputs": [
        {
          "output_type": "stream",
          "text": [
            "Go to this URL in a browser: https://accounts.google.com/o/oauth2/auth?client_id=947318989803-6bn6qk8qdgf4n4g3pfee6491hc0brc4i.apps.googleusercontent.com&redirect_uri=urn%3aietf%3awg%3aoauth%3a2.0%3aoob&response_type=code&scope=email%20https%3a%2f%2fwww.googleapis.com%2fauth%2fdocs.test%20https%3a%2f%2fwww.googleapis.com%2fauth%2fdrive%20https%3a%2f%2fwww.googleapis.com%2fauth%2fdrive.photos.readonly%20https%3a%2f%2fwww.googleapis.com%2fauth%2fpeopleapi.readonly\n",
            "\n",
            "Enter your authorization code:\n",
            "··········\n",
            "Mounted at /content/drive\n"
          ],
          "name": "stdout"
        }
      ]
    },
    {
      "cell_type": "code",
      "metadata": {
        "id": "CcRQkNa6NvH0",
        "colab_type": "code",
        "colab": {}
      },
      "source": [
        "# Save the combined file on Google Drive\n",
        "combined.to_netcdf('/content/drive/My Drive/combined.nc')"
      ],
      "execution_count": 0,
      "outputs": []
    },
    {
      "cell_type": "code",
      "metadata": {
        "id": "IlKq5_kmTLKC",
        "colab_type": "code",
        "outputId": "7784e58b-45d3-47af-b1c1-2715f385ae8e",
        "colab": {
          "base_uri": "https://localhost:8080/",
          "height": 297
        }
      },
      "source": [
        "# Plot the data\n",
        "preciptest = combined.mean('time')\n",
        "preciptest.plot()"
      ],
      "execution_count": 0,
      "outputs": [
        {
          "output_type": "execute_result",
          "data": {
            "text/plain": [
              "<matplotlib.collections.QuadMesh at 0x7f7033c69358>"
            ]
          },
          "metadata": {
            "tags": []
          },
          "execution_count": 27
        },
        {
          "output_type": "display_data",
          "data": {
            "image/png": "[encoded data removed]",
            "text/plain": [
              "<Figure size 432x288 with 2 Axes>"
            ]
          },
          "metadata": {
            "tags": []
          }
        }
      ]
    },
    {
      "cell_type": "markdown",
      "metadata": {
        "id": "CIWIhCO8uu_E",
        "colab_type": "text"
      },
      "source": [
        "From here on, the 'combined.nc' file can be loaded and then we can begin getting the dates that had rain exceeding the 95th percentile. "
      ]
    },
    {
      "cell_type": "code",
      "metadata": {
        "id": "PhWDOJT43sMj",
        "colab_type": "code",
        "colab": {}
      },
      "source": [
        "allprecip = xr.open_dataset('/content/drive/My Drive/combined.nc')"
      ],
      "execution_count": 0,
      "outputs": []
    },
    {
      "cell_type": "code",
      "metadata": {
        "id": "bBqn7iFB5tsw",
        "colab_type": "code",
        "colab": {}
      },
      "source": [
        "def is_ond(month):\n",
        "    return (month >= 10) & (month <= 12)\n",
        "\n",
        "precip_OND = allprecip.sel(time=is_ond(allprecip['time.month']))"
      ],
      "execution_count": 0,
      "outputs": []
    },
    {
      "cell_type": "code",
      "metadata": {
        "id": "eoQzRxV_AiSD",
        "colab_type": "code",
        "colab": {}
      },
      "source": [
        "precipvalues = precip_OND['precip'].sel(latitude=-4.4,longitude=15.3, method='nearest').values\n",
        "precipvalueslist = precipvalues.tolist()\n",
        "#precipvalueslist.sort(reverse=True)\n",
        "#print(precipvalueslist)\n",
        "#precipvalueslist.index(9.969209968386869e+36)\n",
        "precipvalueslist[1963]=0.0"
      ],
      "execution_count": 0,
      "outputs": []
    },
    {
      "cell_type": "code",
      "metadata": {
        "id": "wO04hZJyAn4Q",
        "colab_type": "code",
        "outputId": "6ee29c7d-70be-4f8e-912b-56140f2861d3",
        "colab": {
          "base_uri": "https://localhost:8080/",
          "height": 265
        }
      },
      "source": [
        "# Plot a histogram\n",
        "plt.hist(precipvalueslist, bins = 20)\n",
        "plt.show()"
      ],
      "execution_count": 7,
      "outputs": [
        {
          "output_type": "display_data",
          "data": {
            "image/png": "[encoded data removed]",
            "text/plain": [
              "<Figure size 432x288 with 1 Axes>"
            ]
          },
          "metadata": {
            "tags": []
          }
        }
      ]
    },
    {
      "cell_type": "code",
      "metadata": {
        "id": "Na-1WeBKHCmd",
        "colab_type": "code",
        "outputId": "bfb7e7f8-9ffe-47b0-f126-45f480f89a0e",
        "colab": {
          "base_uri": "https://localhost:8080/",
          "height": 156
        }
      },
      "source": [
        "# Get data in a 1x1 degree grid over Kinshasa, Congo\n",
        "kinshasaraw = precip_OND.sel(latitude=slice(-4.4-1.,-4.4+1.),longitude=slice(15.3-1,15.3+1))\n",
        "kinshasaraw"
      ],
      "execution_count": 8,
      "outputs": [
        {
          "output_type": "execute_result",
          "data": {
            "text/html": [
              "<pre>&lt;xarray.Dataset&gt;\n",
              "Dimensions:    (latitude: 2, longitude: 2, time: 2178)\n",
              "Coordinates:\n",
              "  * longitude  (longitude) float32 15.0 16.0\n",
              "  * latitude   (latitude) float32 -5.0 -4.0\n",
              "  * time       (time) datetime64[ns] 1996-10-01 1996-10-02 ... 2019-11-30\n",
              "Data variables:\n",
              "    precip     (time, latitude, longitude) float32 ...</pre>"
            ],
            "text/plain": [
              "<xarray.Dataset>\n",
              "Dimensions:    (latitude: 2, longitude: 2, time: 2178)\n",
              "Coordinates:\n",
              "  * longitude  (longitude) float32 15.0 16.0\n",
              "  * latitude   (latitude) float32 -5.0 -4.0\n",
              "  * time       (time) datetime64[ns] 1996-10-01 1996-10-02 ... 2019-11-30\n",
              "Data variables:\n",
              "    precip     (time, latitude, longitude) float32 ..."
            ]
          },
          "metadata": {
            "tags": []
          },
          "execution_count": 8
        }
      ]
    },
    {
      "cell_type": "code",
      "metadata": {
        "id": "-6h8XByN0VbM",
        "colab_type": "code",
        "colab": {}
      },
      "source": [
        "kinshasaloc = precip_OND.sel(latitude=-4.4,longitude=15.3,method='nearest')\n",
        "kinshasalocclean = kinshasaloc.where(kinshasaloc.precip<=8000.0,drop=True)"
      ],
      "execution_count": 0,
      "outputs": []
    },
    {
      "cell_type": "code",
      "metadata": {
        "id": "rUYld4IuFwqp",
        "colab_type": "code",
        "colab": {}
      },
      "source": [
        "kinshasap95 = kinshasaraw.quantile(0.95,dim='time')\n",
        "p95value = average(kinshasap95.precip)"
      ],
      "execution_count": 0,
      "outputs": []
    },
    {
      "cell_type": "code",
      "metadata": {
        "id": "BmPmCAxHo_zP",
        "colab_type": "code",
        "outputId": "4a541fa3-d922-4869-a15e-6c77315d3571",
        "colab": {
          "base_uri": "https://localhost:8080/",
          "height": 35
        }
      },
      "source": [
        "np.percentile(kinshasaraw.precip.values,95)\n"
      ],
      "execution_count": 11,
      "outputs": [
        {
          "output_type": "execute_result",
          "data": {
            "text/plain": [
              "26.38299951553344"
            ]
          },
          "metadata": {
            "tags": []
          },
          "execution_count": 11
        }
      ]
    },
    {
      "cell_type": "code",
      "metadata": {
        "id": "3viioxPz2jhI",
        "colab_type": "code",
        "outputId": "5aba5143-2f1c-493c-a8d0-8e5dcd7c2246",
        "colab": {
          "base_uri": "https://localhost:8080/",
          "height": 327
        }
      },
      "source": [
        "# Plot the Cumulative Distribution Function\n",
        "n_bins = 100\n",
        "x = np.arange(0.0,75.0,5.0)\n",
        "y = np.arange(0.0,75.0,5.0)\n",
        "y[:] = 0.95\n",
        "fig, ax = plt.subplots(figsize=(8, 4))\n",
        "\n",
        "# plot the cumulative histogram\n",
        "n, bins, patches = ax.hist(kinshasalocclean.precip.values, n_bins, density=True, histtype='step',\n",
        "                           cumulative=True, label='Empirical', color = 'blue')\n",
        "line = ax.plot(x,y,'k--')\n",
        "plt.title('Cumulative Distribution Function of Rainfall in Oct, Nov, and Dec \\n and 95th Percentile')\n",
        "plt.xlabel('Precipitation bins (mm/day)')\n",
        "plt.ylabel('Percentile')"
      ],
      "execution_count": 21,
      "outputs": [
        {
          "output_type": "execute_result",
          "data": {
            "text/plain": [
              "Text(0, 0.5, 'Percentile')"
            ]
          },
          "metadata": {
            "tags": []
          },
          "execution_count": 21
        },
        {
          "output_type": "display_data",
          "data": {
            "image/png": "[encoded data removed]",
            "text/plain": [
              "<Figure size 576x288 with 1 Axes>"
            ]
          },
          "metadata": {
            "tags": []
          }
        }
      ]
    },
    {
      "cell_type": "code",
      "metadata": {
        "id": "ElKnSMHpoLv9",
        "colab_type": "code",
        "outputId": "da25e617-45ff-49fe-eda1-ff7ad4fd0cf9",
        "colab": {
          "base_uri": "https://localhost:8080/",
          "height": 52
        }
      },
      "source": [
        "# Make a new dataset with only dates exceeding the 95th percentile and also lower than 8000.0 mm to filter out bad data\n",
        "datesexceeded = kinshasaraw.where((kinshasaraw.precip>=p95value)&(kinshasaraw.precip<=8000.0),drop=True)\n",
        "datesexceeded.precip.max()"
      ],
      "execution_count": 0,
      "outputs": [
        {
          "output_type": "execute_result",
          "data": {
            "text/html": [
              "<pre>&lt;xarray.DataArray &#x27;precip&#x27; ()&gt;\n",
              "array(96.21347046)</pre>"
            ],
            "text/plain": [
              "<xarray.DataArray 'precip' ()>\n",
              "array(96.21347046)"
            ]
          },
          "metadata": {
            "tags": []
          },
          "execution_count": 278
        }
      ]
    },
    {
      "cell_type": "code",
      "metadata": {
        "id": "Zr0nnREApQk3",
        "colab_type": "code",
        "colab": {}
      },
      "source": [
        "datesexceeded"
      ],
      "execution_count": 0,
      "outputs": []
    },
    {
      "cell_type": "code",
      "metadata": {
        "id": "6_-Pef8KpU1K",
        "colab_type": "code",
        "colab": {}
      },
      "source": [
        "datesexceeded.time.values"
      ],
      "execution_count": 0,
      "outputs": []
    },
    {
      "cell_type": "code",
      "metadata": {
        "id": "Hldmp-RaoAAF",
        "colab_type": "code",
        "colab": {}
      },
      "source": [
        "datesexceeded.to_netcdf('/content/drive/My Drive/datesexceeded.nc')"
      ],
      "execution_count": 0,
      "outputs": []
    },
    {
      "cell_type": "markdown",
      "metadata": {
        "id": "nPshMppcrn_b",
        "colab_type": "text"
      },
      "source": [
        "From here on, the 'datesexceededclean.nc' file can be loaded and then we can begin plotting the composite fields."
      ]
    }
  ]
}